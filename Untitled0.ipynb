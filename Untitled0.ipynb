{
  "nbformat": 4,
  "nbformat_minor": 0,
  "metadata": {
    "colab": {
      "name": "Untitled0.ipynb",
      "provenance": [],
      "authorship_tag": "ABX9TyOMQ5susoU2v2jnTcP8JMeb",
      "include_colab_link": true
    },
    "kernelspec": {
      "name": "python3",
      "display_name": "Python 3"
    }
  },
  "cells": [
    {
      "cell_type": "markdown",
      "metadata": {
        "id": "view-in-github",
        "colab_type": "text"
      },
      "source": [
        "<a href=\"https://colab.research.google.com/github/chandrakumarjittuga/chandrakumarjittuga/blob/master/Untitled0.ipynb\" target=\"_parent\"><img src=\"https://colab.research.google.com/assets/colab-badge.svg\" alt=\"Open In Colab\"/></a>"
      ]
    },
    {
      "cell_type": "code",
      "metadata": {
        "id": "Vbt-fiq9-UOV",
        "colab_type": "code",
        "colab": {
          "base_uri": "https://localhost:8080/",
          "height": 34
        },
        "outputId": "2a5fbe84-7d8d-4c39-d555-c84cb9b1d95c"
      },
      "source": [
        "print(\"hello world\")\n"
      ],
      "execution_count": 1,
      "outputs": [
        {
          "output_type": "stream",
          "text": [
            "hello world\n"
          ],
          "name": "stdout"
        }
      ]
    },
    {
      "cell_type": "code",
      "metadata": {
        "id": "3PIEiTfR-iAs",
        "colab_type": "code",
        "colab": {
          "base_uri": "https://localhost:8080/",
          "height": 136
        },
        "outputId": "fa78c931-8a6c-4641-d726-3bc3ccf0b056"
      },
      "source": [
        "n1=int(input(\"enter n1 value:\"))\n",
        "n2=int(input(\"enter n2 vlaue:\"))\n",
        "sum=n1+n2\n",
        "mul=n1*n2\n",
        "div=n1/n2\n",
        "sub=n1-n2\n",
        "modulo=n1%n2\n",
        "print(\"the sum of two numbers is:\",sum)\n",
        "print(\"the mulitplication of two numbers is:\",mul)\n",
        "print(\"the division of two numbers is:\",div)\n",
        "print(\"the subtraction of two numbers is:\",sub)\n",
        "print(\"the modulodivision of two numbers is:\",modulo)\n",
        "\n"
      ],
      "execution_count": 2,
      "outputs": [
        {
          "output_type": "stream",
          "text": [
            "enter n1 value:2\n",
            "enter n2 vlaue:3\n",
            "the sum of two numbers is: 5\n",
            "the mulitplication of two numbers is: 6\n",
            "the division of two numbers is: 0.6666666666666666\n",
            "the subtraction of two numbers is: -1\n",
            "the modulodivision of two numbers is: 2\n"
          ],
          "name": "stdout"
        }
      ]
    },
    {
      "cell_type": "code",
      "metadata": {
        "id": "NggTmB_r-vBZ",
        "colab_type": "code",
        "colab": {
          "base_uri": "https://localhost:8080/",
          "height": 68
        },
        "outputId": "33a9de04-d094-4f0e-bc82-fb228a6bf490"
      },
      "source": [
        "n1=int(input(\"enter n1 vlaue\"))\n",
        "n2=int(input(\"enter n2 vlaue\"))\n",
        "if n1==10:\n",
        "  print(\"enter number is equal to n1:\")\n",
        "elif n2==20:\n",
        "  print(\"enter number is equal to n2:\")\n",
        "else:\n",
        "  print(\"enter nubers are not equal to given numbers\")\n"
      ],
      "execution_count": 3,
      "outputs": [
        {
          "output_type": "stream",
          "text": [
            "enter n1 vlaue2\n",
            "enter n2 vlaue4\n",
            "enter nubers are not equal to given numbers\n"
          ],
          "name": "stdout"
        }
      ]
    },
    {
      "cell_type": "code",
      "metadata": {
        "id": "xEfWVqB1-0ti",
        "colab_type": "code",
        "colab": {
          "base_uri": "https://localhost:8080/",
          "height": 187
        },
        "outputId": "7f951b9e-aed3-4aac-ae31-90babfd62be8"
      },
      "source": [
        "chandu=[10,20,30,50,60]\n",
        "for x in chandu:\n",
        "  print(\"The value of x=\",x)\n",
        "  y=x+30\n",
        "  print(\"The value of y=\",y)"
      ],
      "execution_count": 4,
      "outputs": [
        {
          "output_type": "stream",
          "text": [
            "The value of x= 10\n",
            "The value of y= 40\n",
            "The value of x= 20\n",
            "The value of y= 50\n",
            "The value of x= 30\n",
            "The value of y= 60\n",
            "The value of x= 50\n",
            "The value of y= 80\n",
            "The value of x= 60\n",
            "The value of y= 90\n"
          ],
          "name": "stdout"
        }
      ]
    },
    {
      "cell_type": "code",
      "metadata": {
        "id": "sUV-nI3h_CXg",
        "colab_type": "code",
        "colab": {
          "base_uri": "https://localhost:8080/",
          "height": 357
        },
        "outputId": "ea1e10b5-f5d0-4f70-cbdf-d14301ced2be"
      },
      "source": [
        "for i in range(20):\n",
        "  print(i)\n",
        "  "
      ],
      "execution_count": 5,
      "outputs": [
        {
          "output_type": "stream",
          "text": [
            "0\n",
            "1\n",
            "2\n",
            "3\n",
            "4\n",
            "5\n",
            "6\n",
            "7\n",
            "8\n",
            "9\n",
            "10\n",
            "11\n",
            "12\n",
            "13\n",
            "14\n",
            "15\n",
            "16\n",
            "17\n",
            "18\n",
            "19\n"
          ],
          "name": "stdout"
        }
      ]
    },
    {
      "cell_type": "code",
      "metadata": {
        "id": "u-AG9jsz_Inz",
        "colab_type": "code",
        "colab": {
          "base_uri": "https://localhost:8080/",
          "height": 357
        },
        "outputId": "8e0df731-51be-4c71-bca6-aeb61068d5f8"
      },
      "source": [
        "x=int(input(\"enter a number\"))\n",
        "while x<=20:\n",
        "  print(x)\n",
        "  x=x+1"
      ],
      "execution_count": 6,
      "outputs": [
        {
          "output_type": "stream",
          "text": [
            "enter a number2\n",
            "2\n",
            "3\n",
            "4\n",
            "5\n",
            "6\n",
            "7\n",
            "8\n",
            "9\n",
            "10\n",
            "11\n",
            "12\n",
            "13\n",
            "14\n",
            "15\n",
            "16\n",
            "17\n",
            "18\n",
            "19\n",
            "20\n"
          ],
          "name": "stdout"
        }
      ]
    },
    {
      "cell_type": "code",
      "metadata": {
        "id": "BSASdrVo_RFA",
        "colab_type": "code",
        "colab": {
          "base_uri": "https://localhost:8080/",
          "height": 119
        },
        "outputId": "c496d090-b9f5-4108-b050-3e82770ecce2"
      },
      "source": [
        "chandu=['aditya','srikatnh','chinabau','Hemanth','Satya','RajaNaidu']\n",
        "for x in chandu:\n",
        "  print(x)"
      ],
      "execution_count": 7,
      "outputs": [
        {
          "output_type": "stream",
          "text": [
            "aditya\n",
            "srikatnh\n",
            "chinabau\n",
            "Hemanth\n",
            "Satya\n",
            "RajaNaidu\n"
          ],
          "name": "stdout"
        }
      ]
    },
    {
      "cell_type": "code",
      "metadata": {
        "id": "ER1lhEyE_aNq",
        "colab_type": "code",
        "colab": {
          "base_uri": "https://localhost:8080/",
          "height": 51
        },
        "outputId": "beeebb8d-5856-44d2-b06f-b07d6d1af4f9"
      },
      "source": [
        "pi=3.14\n",
        "r=int(input(\"enter the radius of the circle:\"))\n",
        "area=pi*r*r\n",
        "area=print(\"area of the circle is:\",area)\n"
      ],
      "execution_count": 8,
      "outputs": [
        {
          "output_type": "stream",
          "text": [
            "enter the radius of the circle:4\n",
            "area of the circle is: 50.24\n"
          ],
          "name": "stdout"
        }
      ]
    },
    {
      "cell_type": "code",
      "metadata": {
        "id": "V0VaMASD_hCj",
        "colab_type": "code",
        "colab": {
          "base_uri": "https://localhost:8080/",
          "height": 68
        },
        "outputId": "5bc45980-722e-473e-b8c0-4ca398d25bae"
      },
      "source": [
        "n1=int(input(\"enter n1 value:\"))\n",
        "n2=int(input(\"enter n2 vlaue:\"))\n",
        "n3=n1**n2\n",
        "print(\"the power of number is\",n3)"
      ],
      "execution_count": 9,
      "outputs": [
        {
          "output_type": "stream",
          "text": [
            "enter n1 value:2\n",
            "enter n2 vlaue:3\n",
            "the power of number is 8\n"
          ],
          "name": "stdout"
        }
      ]
    }
  ]
}